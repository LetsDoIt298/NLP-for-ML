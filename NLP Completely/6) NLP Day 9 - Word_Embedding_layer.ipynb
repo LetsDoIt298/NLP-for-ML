{
  "nbformat": 4,
  "nbformat_minor": 0,
  "metadata": {
    "colab": {
      "provenance": [],
      "gpuType": "T4"
    },
    "kernelspec": {
      "name": "python3",
      "display_name": "Python 3"
    },
    "language_info": {
      "name": "python"
    },
    "accelerator": "GPU"
  },
  "cells": [
    {
      "cell_type": "code",
      "execution_count": null,
      "metadata": {
        "id": "5cEBytaxE_F8"
      },
      "outputs": [],
      "source": [
        "# Earlier we have seen how to do using word2Vec.\n",
        "# This notebook will show how to convert words of a sentence to vectors, using word embeddings.\n",
        "# This will show training part of word embeddings"
      ]
    },
    {
      "cell_type": "code",
      "source": [
        "# We are performing word embedding training because we have our own data."
      ],
      "metadata": {
        "id": "hoeMIVORKVJw"
      },
      "execution_count": null,
      "outputs": []
    },
    {
      "cell_type": "code",
      "source": [
        "# Stepts for training\n",
        "# Select set of Sentecnces\n",
        "# Define Vocabulary size -> Number of unique words in a text corpus/para\n",
        "# One hot encoding (OHE)\n",
        "# Padding (Post Padding & Pre Padding on OHE)\n",
        "# OHE values will get converted to vectors"
      ],
      "metadata": {
        "id": "HlVUgSggFpzc"
      },
      "execution_count": null,
      "outputs": []
    },
    {
      "cell_type": "markdown",
      "metadata": {
        "id": "eHNf7J680XF-"
      },
      "source": [
        "## Word Embedding Techniques using Embedding Layer in Keras"
      ]
    },
    {
      "cell_type": "code",
      "execution_count": null,
      "metadata": {
        "id": "PEsK0_yl0XGB"
      },
      "outputs": [],
      "source": [
        "### Libraries USed Tensorflow> 2.0  and keras"
      ]
    },
    {
      "cell_type": "code",
      "execution_count": null,
      "metadata": {
        "colab": {
          "base_uri": "https://localhost:8080/"
        },
        "id": "pslw1Ya90XGC",
        "outputId": "c537d877-c898-44bb-f668-c8a3f0cf16b6"
      },
      "outputs": [
        {
          "output_type": "stream",
          "name": "stdout",
          "text": [
            "Requirement already satisfied: tensorflow in /usr/local/lib/python3.10/dist-packages (2.17.1)\n",
            "Requirement already satisfied: absl-py>=1.0.0 in /usr/local/lib/python3.10/dist-packages (from tensorflow) (1.4.0)\n",
            "Requirement already satisfied: astunparse>=1.6.0 in /usr/local/lib/python3.10/dist-packages (from tensorflow) (1.6.3)\n",
            "Requirement already satisfied: flatbuffers>=24.3.25 in /usr/local/lib/python3.10/dist-packages (from tensorflow) (24.3.25)\n",
            "Requirement already satisfied: gast!=0.5.0,!=0.5.1,!=0.5.2,>=0.2.1 in /usr/local/lib/python3.10/dist-packages (from tensorflow) (0.6.0)\n",
            "Requirement already satisfied: google-pasta>=0.1.1 in /usr/local/lib/python3.10/dist-packages (from tensorflow) (0.2.0)\n",
            "Requirement already satisfied: h5py>=3.10.0 in /usr/local/lib/python3.10/dist-packages (from tensorflow) (3.12.1)\n",
            "Requirement already satisfied: libclang>=13.0.0 in /usr/local/lib/python3.10/dist-packages (from tensorflow) (18.1.1)\n",
            "Requirement already satisfied: ml-dtypes<0.5.0,>=0.3.1 in /usr/local/lib/python3.10/dist-packages (from tensorflow) (0.4.1)\n",
            "Requirement already satisfied: opt-einsum>=2.3.2 in /usr/local/lib/python3.10/dist-packages (from tensorflow) (3.4.0)\n",
            "Requirement already satisfied: packaging in /usr/local/lib/python3.10/dist-packages (from tensorflow) (24.2)\n",
            "Requirement already satisfied: protobuf!=4.21.0,!=4.21.1,!=4.21.2,!=4.21.3,!=4.21.4,!=4.21.5,<5.0.0dev,>=3.20.3 in /usr/local/lib/python3.10/dist-packages (from tensorflow) (4.25.5)\n",
            "Requirement already satisfied: requests<3,>=2.21.0 in /usr/local/lib/python3.10/dist-packages (from tensorflow) (2.32.3)\n",
            "Requirement already satisfied: setuptools in /usr/local/lib/python3.10/dist-packages (from tensorflow) (75.1.0)\n",
            "Requirement already satisfied: six>=1.12.0 in /usr/local/lib/python3.10/dist-packages (from tensorflow) (1.17.0)\n",
            "Requirement already satisfied: termcolor>=1.1.0 in /usr/local/lib/python3.10/dist-packages (from tensorflow) (2.5.0)\n",
            "Requirement already satisfied: typing-extensions>=3.6.6 in /usr/local/lib/python3.10/dist-packages (from tensorflow) (4.12.2)\n",
            "Requirement already satisfied: wrapt>=1.11.0 in /usr/local/lib/python3.10/dist-packages (from tensorflow) (1.17.0)\n",
            "Requirement already satisfied: grpcio<2.0,>=1.24.3 in /usr/local/lib/python3.10/dist-packages (from tensorflow) (1.68.1)\n",
            "Requirement already satisfied: tensorboard<2.18,>=2.17 in /usr/local/lib/python3.10/dist-packages (from tensorflow) (2.17.1)\n",
            "Requirement already satisfied: keras>=3.2.0 in /usr/local/lib/python3.10/dist-packages (from tensorflow) (3.5.0)\n",
            "Requirement already satisfied: tensorflow-io-gcs-filesystem>=0.23.1 in /usr/local/lib/python3.10/dist-packages (from tensorflow) (0.37.1)\n",
            "Requirement already satisfied: numpy<2.0.0,>=1.23.5 in /usr/local/lib/python3.10/dist-packages (from tensorflow) (1.26.4)\n",
            "Requirement already satisfied: wheel<1.0,>=0.23.0 in /usr/local/lib/python3.10/dist-packages (from astunparse>=1.6.0->tensorflow) (0.45.1)\n",
            "Requirement already satisfied: rich in /usr/local/lib/python3.10/dist-packages (from keras>=3.2.0->tensorflow) (13.9.4)\n",
            "Requirement already satisfied: namex in /usr/local/lib/python3.10/dist-packages (from keras>=3.2.0->tensorflow) (0.0.8)\n",
            "Requirement already satisfied: optree in /usr/local/lib/python3.10/dist-packages (from keras>=3.2.0->tensorflow) (0.13.1)\n",
            "Requirement already satisfied: charset-normalizer<4,>=2 in /usr/local/lib/python3.10/dist-packages (from requests<3,>=2.21.0->tensorflow) (3.4.0)\n",
            "Requirement already satisfied: idna<4,>=2.5 in /usr/local/lib/python3.10/dist-packages (from requests<3,>=2.21.0->tensorflow) (3.10)\n",
            "Requirement already satisfied: urllib3<3,>=1.21.1 in /usr/local/lib/python3.10/dist-packages (from requests<3,>=2.21.0->tensorflow) (2.2.3)\n",
            "Requirement already satisfied: certifi>=2017.4.17 in /usr/local/lib/python3.10/dist-packages (from requests<3,>=2.21.0->tensorflow) (2024.12.14)\n",
            "Requirement already satisfied: markdown>=2.6.8 in /usr/local/lib/python3.10/dist-packages (from tensorboard<2.18,>=2.17->tensorflow) (3.7)\n",
            "Requirement already satisfied: tensorboard-data-server<0.8.0,>=0.7.0 in /usr/local/lib/python3.10/dist-packages (from tensorboard<2.18,>=2.17->tensorflow) (0.7.2)\n",
            "Requirement already satisfied: werkzeug>=1.0.1 in /usr/local/lib/python3.10/dist-packages (from tensorboard<2.18,>=2.17->tensorflow) (3.1.3)\n",
            "Requirement already satisfied: MarkupSafe>=2.1.1 in /usr/local/lib/python3.10/dist-packages (from werkzeug>=1.0.1->tensorboard<2.18,>=2.17->tensorflow) (3.0.2)\n",
            "Requirement already satisfied: markdown-it-py>=2.2.0 in /usr/local/lib/python3.10/dist-packages (from rich->keras>=3.2.0->tensorflow) (3.0.0)\n",
            "Requirement already satisfied: pygments<3.0.0,>=2.13.0 in /usr/local/lib/python3.10/dist-packages (from rich->keras>=3.2.0->tensorflow) (2.18.0)\n",
            "Requirement already satisfied: mdurl~=0.1 in /usr/local/lib/python3.10/dist-packages (from markdown-it-py>=2.2.0->rich->keras>=3.2.0->tensorflow) (0.1.2)\n"
          ]
        }
      ],
      "source": [
        "!pip install tensorflow"
      ]
    },
    {
      "cell_type": "code",
      "source": [
        "import tensorflow as tf\n",
        "print(tf.__version__)"
      ],
      "metadata": {
        "colab": {
          "base_uri": "https://localhost:8080/"
        },
        "id": "7Q_WTLFSIT69",
        "outputId": "df8bcdcc-19eb-40ca-c238-bd52b2e2c2b3"
      },
      "execution_count": null,
      "outputs": [
        {
          "output_type": "stream",
          "name": "stdout",
          "text": [
            "2.17.1\n"
          ]
        }
      ]
    },
    {
      "cell_type": "code",
      "source": [
        "##tensorflow >2.0\n",
        "from tensorflow.keras.preprocessing.text import one_hot"
      ],
      "metadata": {
        "id": "4UnxWlIyJp80"
      },
      "execution_count": null,
      "outputs": []
    },
    {
      "cell_type": "code",
      "source": [
        "### sentences\n",
        "sent=[  'the glass of milk',\n",
        "     'the glass of juice',\n",
        "     'the cup of tea',\n",
        "    'I am a good boy',\n",
        "     'I am a good developer',\n",
        "     'understand the meaning of words',\n",
        "     'your videos are good']"
      ],
      "metadata": {
        "id": "UgCmwzujJyFC"
      },
      "execution_count": null,
      "outputs": []
    },
    {
      "cell_type": "code",
      "source": [
        "### Vocabulary size\n",
        "voc_size=500"
      ],
      "metadata": {
        "id": "COoXkFEbJ0VG"
      },
      "execution_count": null,
      "outputs": []
    },
    {
      "cell_type": "markdown",
      "source": [
        "## One Hot Representation"
      ],
      "metadata": {
        "id": "zHjCzjn3J_mM"
      }
    },
    {
      "cell_type": "code",
      "source": [
        "onehot_repr=[one_hot(words,voc_size)for words in sent]\n",
        "print(onehot_repr)"
      ],
      "metadata": {
        "colab": {
          "base_uri": "https://localhost:8080/"
        },
        "id": "GJrHT_FoJ48H",
        "outputId": "3201f9e4-81de-46ec-e4e4-978dbcb5d99c"
      },
      "execution_count": null,
      "outputs": [
        {
          "output_type": "stream",
          "name": "stdout",
          "text": [
            "[[443, 420, 141, 267], [443, 420, 141, 53], [443, 471, 141, 293], [423, 459, 23, 279, 122], [423, 459, 23, 279, 226], [475, 443, 128, 141, 87], [226, 196, 285, 279]]\n"
          ]
        }
      ]
    },
    {
      "cell_type": "markdown",
      "source": [
        "If we Notice above, size of each sentence represented in list is not same. Therefore we perform Post & pre padding"
      ],
      "metadata": {
        "id": "6dqSXADxLd9F"
      }
    },
    {
      "cell_type": "markdown",
      "source": [
        "## Word Embedding Represntation (post & pre padding)"
      ],
      "metadata": {
        "id": "K7Q2MkH5KHfK"
      }
    },
    {
      "cell_type": "code",
      "source": [
        "from tensorflow.keras.layers import Embedding\n",
        "from tensorflow.keras.preprocessing.sequence import pad_sequences\n",
        "from tensorflow.keras.models import Sequential\n",
        "\n",
        "import numpy as np"
      ],
      "metadata": {
        "id": "Kb7JxAbEKDca"
      },
      "execution_count": null,
      "outputs": []
    },
    {
      "cell_type": "code",
      "source": [
        "# Finding maximum sentence length\n",
        "length=0\n",
        "for sentence in sent:\n",
        "  if len(sentence.split(' ')) > length:\n",
        "    length = len(sentence.split(' '))\n",
        "\n",
        "length\n"
      ],
      "metadata": {
        "colab": {
          "base_uri": "https://localhost:8080/"
        },
        "id": "4m6s-JkUMC3Q",
        "outputId": "e07bf3ff-6ece-4257-ea09-07a89986aa41"
      },
      "execution_count": null,
      "outputs": [
        {
          "output_type": "execute_result",
          "data": {
            "text/plain": [
              "5"
            ]
          },
          "metadata": {},
          "execution_count": 35
        }
      ]
    },
    {
      "cell_type": "code",
      "source": [
        "## Post padding\n",
        "sent_length= length + 3 # Adding 3 for extra zeros to show pre and post zeros\n",
        "embedded_docs=pad_sequences(onehot_repr,padding='post',maxlen=sent_length)\n",
        "print(embedded_docs)"
      ],
      "metadata": {
        "colab": {
          "base_uri": "https://localhost:8080/"
        },
        "id": "Vn0pUzYjOClk",
        "outputId": "6526bbe9-abc9-46c9-c7d6-f010d062cbe7"
      },
      "execution_count": null,
      "outputs": [
        {
          "output_type": "stream",
          "name": "stdout",
          "text": [
            "[[443 420 141 267   0   0   0   0]\n",
            " [443 420 141  53   0   0   0   0]\n",
            " [443 471 141 293   0   0   0   0]\n",
            " [423 459  23 279 122   0   0   0]\n",
            " [423 459  23 279 226   0   0   0]\n",
            " [475 443 128 141  87   0   0   0]\n",
            " [226 196 285 279   0   0   0   0]]\n"
          ]
        }
      ]
    },
    {
      "cell_type": "code",
      "source": [
        "## Pre padding\n",
        "sent_length= length + 3 # Adding 3 for extra zeros to show pre and post zeros\n",
        "embedded_docs=pad_sequences(onehot_repr,padding='pre',maxlen=sent_length)\n",
        "print(embedded_docs)"
      ],
      "metadata": {
        "colab": {
          "base_uri": "https://localhost:8080/"
        },
        "id": "nLdlevESKMja",
        "outputId": "8bd249a4-13e4-4b79-ecba-93180d1bc4ae"
      },
      "execution_count": null,
      "outputs": [
        {
          "output_type": "stream",
          "name": "stdout",
          "text": [
            "[[  0   0   0   0 443 420 141 267]\n",
            " [  0   0   0   0 443 420 141  53]\n",
            " [  0   0   0   0 443 471 141 293]\n",
            " [  0   0   0 423 459  23 279 122]\n",
            " [  0   0   0 423 459  23 279 226]\n",
            " [  0   0   0 475 443 128 141  87]\n",
            " [  0   0   0   0 226 196 285 279]]\n"
          ]
        }
      ]
    },
    {
      "cell_type": "code",
      "source": [
        "## Pre padding\n",
        "sent_length= length\n",
        "embedded_docs=pad_sequences(onehot_repr,padding='pre',maxlen=sent_length)\n",
        "print(embedded_docs)"
      ],
      "metadata": {
        "colab": {
          "base_uri": "https://localhost:8080/"
        },
        "id": "tB-adkHaTZHP",
        "outputId": "cbf94784-902b-48cf-be4d-42a0e520e08c"
      },
      "execution_count": null,
      "outputs": [
        {
          "output_type": "stream",
          "name": "stdout",
          "text": [
            "[[  0 443 420 141 267]\n",
            " [  0 443 420 141  53]\n",
            " [  0 443 471 141 293]\n",
            " [423 459  23 279 122]\n",
            " [423 459  23 279 226]\n",
            " [475 443 128 141  87]\n",
            " [  0 226 196 285 279]]\n"
          ]
        }
      ]
    },
    {
      "cell_type": "code",
      "source": [
        "## 10 Feature Representation dimention\n",
        "dim=10"
      ],
      "metadata": {
        "id": "jpm8i1RbKP5-"
      },
      "execution_count": null,
      "outputs": []
    },
    {
      "cell_type": "code",
      "source": [
        "voc_size"
      ],
      "metadata": {
        "colab": {
          "base_uri": "https://localhost:8080/"
        },
        "id": "MxqvPkCKPVUW",
        "outputId": "e67b1e2a-c412-407e-d2ad-9af25e70685a"
      },
      "execution_count": null,
      "outputs": [
        {
          "output_type": "execute_result",
          "data": {
            "text/plain": [
              "500"
            ]
          },
          "metadata": {},
          "execution_count": 65
        }
      ]
    },
    {
      "cell_type": "code",
      "source": [
        "# Creating sequestial model\n",
        "model=Sequential()\n",
        "\n",
        "\n",
        "model.add(Embedding(input_dim=voc_size,\n",
        "                    output_dim= dim))\n",
        "model.compile(optimizer='adam',\n",
        "              loss='mse')"
      ],
      "metadata": {
        "id": "u5WqjyZWNlf6"
      },
      "execution_count": null,
      "outputs": []
    },
    {
      "cell_type": "code",
      "source": [
        "model.summary()"
      ],
      "metadata": {
        "colab": {
          "base_uri": "https://localhost:8080/",
          "height": 183
        },
        "id": "bNFIjn1jNuoe",
        "outputId": "6555abb3-0699-4c60-845d-b889ce9b94f3"
      },
      "execution_count": null,
      "outputs": [
        {
          "output_type": "display_data",
          "data": {
            "text/plain": [
              "\u001b[1mModel: \"sequential_9\"\u001b[0m\n"
            ],
            "text/html": [
              "<pre style=\"white-space:pre;overflow-x:auto;line-height:normal;font-family:Menlo,'DejaVu Sans Mono',consolas,'Courier New',monospace\"><span style=\"font-weight: bold\">Model: \"sequential_9\"</span>\n",
              "</pre>\n"
            ]
          },
          "metadata": {}
        },
        {
          "output_type": "display_data",
          "data": {
            "text/plain": [
              "┏━━━━━━━━━━━━━━━━━━━━━━━━━━━━━━━━━━━━━━┳━━━━━━━━━━━━━━━━━━━━━━━━━━━━━┳━━━━━━━━━━━━━━━━━┓\n",
              "┃\u001b[1m \u001b[0m\u001b[1mLayer (type)                        \u001b[0m\u001b[1m \u001b[0m┃\u001b[1m \u001b[0m\u001b[1mOutput Shape               \u001b[0m\u001b[1m \u001b[0m┃\u001b[1m \u001b[0m\u001b[1m        Param #\u001b[0m\u001b[1m \u001b[0m┃\n",
              "┡━━━━━━━━━━━━━━━━━━━━━━━━━━━━━━━━━━━━━━╇━━━━━━━━━━━━━━━━━━━━━━━━━━━━━╇━━━━━━━━━━━━━━━━━┩\n",
              "│ embedding_8 (\u001b[38;5;33mEmbedding\u001b[0m)              │ ?                           │     \u001b[38;5;34m0\u001b[0m (unbuilt) │\n",
              "└──────────────────────────────────────┴─────────────────────────────┴─────────────────┘\n"
            ],
            "text/html": [
              "<pre style=\"white-space:pre;overflow-x:auto;line-height:normal;font-family:Menlo,'DejaVu Sans Mono',consolas,'Courier New',monospace\">┏━━━━━━━━━━━━━━━━━━━━━━━━━━━━━━━━━━━━━━┳━━━━━━━━━━━━━━━━━━━━━━━━━━━━━┳━━━━━━━━━━━━━━━━━┓\n",
              "┃<span style=\"font-weight: bold\"> Layer (type)                         </span>┃<span style=\"font-weight: bold\"> Output Shape                </span>┃<span style=\"font-weight: bold\">         Param # </span>┃\n",
              "┡━━━━━━━━━━━━━━━━━━━━━━━━━━━━━━━━━━━━━━╇━━━━━━━━━━━━━━━━━━━━━━━━━━━━━╇━━━━━━━━━━━━━━━━━┩\n",
              "│ embedding_8 (<span style=\"color: #0087ff; text-decoration-color: #0087ff\">Embedding</span>)              │ ?                           │     <span style=\"color: #00af00; text-decoration-color: #00af00\">0</span> (unbuilt) │\n",
              "└──────────────────────────────────────┴─────────────────────────────┴─────────────────┘\n",
              "</pre>\n"
            ]
          },
          "metadata": {}
        },
        {
          "output_type": "display_data",
          "data": {
            "text/plain": [
              "\u001b[1m Total params: \u001b[0m\u001b[38;5;34m0\u001b[0m (0.00 B)\n"
            ],
            "text/html": [
              "<pre style=\"white-space:pre;overflow-x:auto;line-height:normal;font-family:Menlo,'DejaVu Sans Mono',consolas,'Courier New',monospace\"><span style=\"font-weight: bold\"> Total params: </span><span style=\"color: #00af00; text-decoration-color: #00af00\">0</span> (0.00 B)\n",
              "</pre>\n"
            ]
          },
          "metadata": {}
        },
        {
          "output_type": "display_data",
          "data": {
            "text/plain": [
              "\u001b[1m Trainable params: \u001b[0m\u001b[38;5;34m0\u001b[0m (0.00 B)\n"
            ],
            "text/html": [
              "<pre style=\"white-space:pre;overflow-x:auto;line-height:normal;font-family:Menlo,'DejaVu Sans Mono',consolas,'Courier New',monospace\"><span style=\"font-weight: bold\"> Trainable params: </span><span style=\"color: #00af00; text-decoration-color: #00af00\">0</span> (0.00 B)\n",
              "</pre>\n"
            ]
          },
          "metadata": {}
        },
        {
          "output_type": "display_data",
          "data": {
            "text/plain": [
              "\u001b[1m Non-trainable params: \u001b[0m\u001b[38;5;34m0\u001b[0m (0.00 B)\n"
            ],
            "text/html": [
              "<pre style=\"white-space:pre;overflow-x:auto;line-height:normal;font-family:Menlo,'DejaVu Sans Mono',consolas,'Courier New',monospace\"><span style=\"font-weight: bold\"> Non-trainable params: </span><span style=\"color: #00af00; text-decoration-color: #00af00\">0</span> (0.00 B)\n",
              "</pre>\n"
            ]
          },
          "metadata": {}
        }
      ]
    },
    {
      "cell_type": "markdown",
      "source": [
        "## **NOTE:-**\n",
        "In this case, the output shape has ? for both the batch size and the sequence length because Keras will determine the sequence length dynamically based on the input data.\n",
        "\n"
      ],
      "metadata": {
        "id": "QV1emCzCSOWD"
      }
    },
    {
      "cell_type": "code",
      "source": [
        "##'the glass of milk',\n",
        "embedded_docs[0]"
      ],
      "metadata": {
        "colab": {
          "base_uri": "https://localhost:8080/"
        },
        "id": "V2Wy5vYON29r",
        "outputId": "2dd7ca4b-9abc-430f-bdcb-ab6fffea5aa9"
      },
      "execution_count": null,
      "outputs": [
        {
          "output_type": "execute_result",
          "data": {
            "text/plain": [
              "array([  0, 443, 420, 141, 267], dtype=int32)"
            ]
          },
          "metadata": {},
          "execution_count": 68
        }
      ]
    },
    {
      "cell_type": "code",
      "source": [
        "model.predict(embedded_docs[0])"
      ],
      "metadata": {
        "colab": {
          "base_uri": "https://localhost:8080/"
        },
        "id": "t7Cqo0rzRjkB",
        "outputId": "6414c8fe-33e9-41ec-eb61-510eda26340d"
      },
      "execution_count": null,
      "outputs": [
        {
          "output_type": "stream",
          "name": "stdout",
          "text": [
            "\u001b[1m1/1\u001b[0m \u001b[32m━━━━━━━━━━━━━━━━━━━━\u001b[0m\u001b[37m\u001b[0m \u001b[1m0s\u001b[0m 159ms/step\n"
          ]
        },
        {
          "output_type": "execute_result",
          "data": {
            "text/plain": [
              "array([[-0.01597375,  0.01124644,  0.04702612, -0.02477637, -0.02166818,\n",
              "        -0.00692565,  0.00137762,  0.03707198,  0.04972422,  0.04412607],\n",
              "       [-0.02947437, -0.00324265, -0.04161046, -0.00239938,  0.00184681,\n",
              "         0.00483125,  0.02619633, -0.03283904,  0.0243705 , -0.03910375],\n",
              "       [ 0.04267612, -0.03350116, -0.0234298 ,  0.00746056, -0.03464542,\n",
              "         0.0317754 , -0.04463515,  0.03101057,  0.04890628,  0.01694882],\n",
              "       [-0.03820832, -0.04938891,  0.03143836, -0.00529527, -0.02088292,\n",
              "         0.01896072,  0.02210693,  0.02839288,  0.01945493, -0.02051385],\n",
              "       [ 0.00772226, -0.04961765, -0.04692031,  0.00286301, -0.04634292,\n",
              "        -0.03382219,  0.01582136, -0.01889046,  0.01990343,  0.03978669]],\n",
              "      dtype=float32)"
            ]
          },
          "metadata": {},
          "execution_count": 69
        }
      ]
    },
    {
      "cell_type": "code",
      "source": [
        "for i in embedded_docs:\n",
        "  print(model.predict(i))\n",
        "#print(model.predict(embedded_docs))"
      ],
      "metadata": {
        "colab": {
          "base_uri": "https://localhost:8080/"
        },
        "id": "lN87mHoqStnL",
        "outputId": "dd80c3b8-6658-4b8a-c86e-c9413e1c49a5"
      },
      "execution_count": null,
      "outputs": [
        {
          "output_type": "stream",
          "name": "stdout",
          "text": [
            "\u001b[1m1/1\u001b[0m \u001b[32m━━━━━━━━━━━━━━━━━━━━\u001b[0m\u001b[37m\u001b[0m \u001b[1m0s\u001b[0m 16ms/step\n",
            "[[-0.01597375  0.01124644  0.04702612 -0.02477637 -0.02166818 -0.00692565\n",
            "   0.00137762  0.03707198  0.04972422  0.04412607]\n",
            " [-0.02947437 -0.00324265 -0.04161046 -0.00239938  0.00184681  0.00483125\n",
            "   0.02619633 -0.03283904  0.0243705  -0.03910375]\n",
            " [ 0.04267612 -0.03350116 -0.0234298   0.00746056 -0.03464542  0.0317754\n",
            "  -0.04463515  0.03101057  0.04890628  0.01694882]\n",
            " [-0.03820832 -0.04938891  0.03143836 -0.00529527 -0.02088292  0.01896072\n",
            "   0.02210693  0.02839288  0.01945493 -0.02051385]\n",
            " [ 0.00772226 -0.04961765 -0.04692031  0.00286301 -0.04634292 -0.03382219\n",
            "   0.01582136 -0.01889046  0.01990343  0.03978669]]\n",
            "\u001b[1m1/1\u001b[0m \u001b[32m━━━━━━━━━━━━━━━━━━━━\u001b[0m\u001b[37m\u001b[0m \u001b[1m0s\u001b[0m 14ms/step\n",
            "[[-0.01597375  0.01124644  0.04702612 -0.02477637 -0.02166818 -0.00692565\n",
            "   0.00137762  0.03707198  0.04972422  0.04412607]\n",
            " [-0.02947437 -0.00324265 -0.04161046 -0.00239938  0.00184681  0.00483125\n",
            "   0.02619633 -0.03283904  0.0243705  -0.03910375]\n",
            " [ 0.04267612 -0.03350116 -0.0234298   0.00746056 -0.03464542  0.0317754\n",
            "  -0.04463515  0.03101057  0.04890628  0.01694882]\n",
            " [-0.03820832 -0.04938891  0.03143836 -0.00529527 -0.02088292  0.01896072\n",
            "   0.02210693  0.02839288  0.01945493 -0.02051385]\n",
            " [ 0.0327521  -0.03176379  0.03350356  0.03160768 -0.01058155 -0.02097269\n",
            "  -0.03397737  0.02018586  0.03535607 -0.0269586 ]]\n",
            "\u001b[1m1/1\u001b[0m \u001b[32m━━━━━━━━━━━━━━━━━━━━\u001b[0m\u001b[37m\u001b[0m \u001b[1m0s\u001b[0m 15ms/step\n",
            "[[-0.01597375  0.01124644  0.04702612 -0.02477637 -0.02166818 -0.00692565\n",
            "   0.00137762  0.03707198  0.04972422  0.04412607]\n",
            " [-0.02947437 -0.00324265 -0.04161046 -0.00239938  0.00184681  0.00483125\n",
            "   0.02619633 -0.03283904  0.0243705  -0.03910375]\n",
            " [ 0.02796433 -0.02518234 -0.02981429  0.0203841   0.01549238 -0.0357731\n",
            "   0.04004451 -0.04395444 -0.0126068  -0.03781967]\n",
            " [-0.03820832 -0.04938891  0.03143836 -0.00529527 -0.02088292  0.01896072\n",
            "   0.02210693  0.02839288  0.01945493 -0.02051385]\n",
            " [ 0.00116949  0.0238306  -0.01020391  0.00920445  0.02292062  0.026792\n",
            "   0.0119165  -0.04655451  0.00890576 -0.00097332]]\n",
            "\u001b[1m1/1\u001b[0m \u001b[32m━━━━━━━━━━━━━━━━━━━━\u001b[0m\u001b[37m\u001b[0m \u001b[1m0s\u001b[0m 15ms/step\n",
            "[[-0.02222459 -0.03646506  0.02431382 -0.02864378  0.02347088  0.01138068\n",
            "   0.0383438   0.00510249  0.03451684 -0.0047843 ]\n",
            " [-0.03546053 -0.03760297 -0.02922684  0.01681035 -0.01992914 -0.03668333\n",
            "   0.02222214  0.04725348  0.0406386   0.04623146]\n",
            " [-0.02419795 -0.03146084 -0.01388129  0.02585461  0.02597605  0.04750897\n",
            "  -0.03523769  0.00653635 -0.00933657 -0.04877098]\n",
            " [ 0.02705672  0.03893742 -0.03773117  0.00377567 -0.04553396 -0.04808679\n",
            "   0.00795341  0.04133061 -0.00765871 -0.00683665]\n",
            " [-0.00940109  0.04887337 -0.0171267   0.02236468  0.04052526  0.02330141\n",
            "  -0.00613514  0.04000697 -0.03051875  0.03900937]]\n",
            "\u001b[1m1/1\u001b[0m \u001b[32m━━━━━━━━━━━━━━━━━━━━\u001b[0m\u001b[37m\u001b[0m \u001b[1m0s\u001b[0m 15ms/step\n",
            "[[-0.02222459 -0.03646506  0.02431382 -0.02864378  0.02347088  0.01138068\n",
            "   0.0383438   0.00510249  0.03451684 -0.0047843 ]\n",
            " [-0.03546053 -0.03760297 -0.02922684  0.01681035 -0.01992914 -0.03668333\n",
            "   0.02222214  0.04725348  0.0406386   0.04623146]\n",
            " [-0.02419795 -0.03146084 -0.01388129  0.02585461  0.02597605  0.04750897\n",
            "  -0.03523769  0.00653635 -0.00933657 -0.04877098]\n",
            " [ 0.02705672  0.03893742 -0.03773117  0.00377567 -0.04553396 -0.04808679\n",
            "   0.00795341  0.04133061 -0.00765871 -0.00683665]\n",
            " [-0.00875662  0.04633976 -0.02531408 -0.03111404 -0.02931699 -0.01962916\n",
            "   0.02765882  0.01218842 -0.01872928  0.00136781]]\n",
            "\u001b[1m1/1\u001b[0m \u001b[32m━━━━━━━━━━━━━━━━━━━━\u001b[0m\u001b[37m\u001b[0m \u001b[1m0s\u001b[0m 20ms/step\n",
            "[[-4.0434740e-02 -1.7418049e-02 -3.4340262e-02  5.8108456e-03\n",
            "  -1.1049621e-03  2.8713133e-02  4.7111753e-02  4.7877613e-02\n",
            "   3.8904157e-02  4.4524670e-05]\n",
            " [-2.9474366e-02 -3.2426491e-03 -4.1610457e-02 -2.3993850e-03\n",
            "   1.8468127e-03  4.8312545e-03  2.6196335e-02 -3.2839037e-02\n",
            "   2.4370503e-02 -3.9103746e-02]\n",
            " [-1.7333366e-02 -4.5313299e-02 -4.9364030e-02  1.1350833e-02\n",
            "   2.3960713e-02 -3.5960663e-02  3.6139678e-02  3.3040754e-03\n",
            "  -2.5314558e-02  2.0661484e-02]\n",
            " [-3.8208317e-02 -4.9388912e-02  3.1438362e-02 -5.2952655e-03\n",
            "  -2.0882918e-02  1.8960718e-02  2.2106934e-02  2.8392877e-02\n",
            "   1.9454930e-02 -2.0513846e-02]\n",
            " [ 2.1461893e-02 -1.4439665e-02  2.7989332e-02 -4.4181537e-02\n",
            "   1.7606165e-02  3.7894536e-02  1.6466867e-02 -7.0853606e-03\n",
            "  -4.9804308e-02  2.5842074e-02]]\n",
            "\u001b[1m1/1\u001b[0m \u001b[32m━━━━━━━━━━━━━━━━━━━━\u001b[0m\u001b[37m\u001b[0m \u001b[1m0s\u001b[0m 16ms/step\n",
            "[[-0.01597375  0.01124644  0.04702612 -0.02477637 -0.02166818 -0.00692565\n",
            "   0.00137762  0.03707198  0.04972422  0.04412607]\n",
            " [-0.00875662  0.04633976 -0.02531408 -0.03111404 -0.02931699 -0.01962916\n",
            "   0.02765882  0.01218842 -0.01872928  0.00136781]\n",
            " [ 0.02309222  0.04581043  0.04009346  0.02102149 -0.03989301  0.00587557\n",
            "   0.03179895  0.03555449  0.02516315 -0.02764272]\n",
            " [ 0.03212993  0.04928717 -0.0369357  -0.03538281  0.00871252  0.01537601\n",
            "   0.04571487 -0.01412499  0.03417865  0.03645264]\n",
            " [ 0.02705672  0.03893742 -0.03773117  0.00377567 -0.04553396 -0.04808679\n",
            "   0.00795341  0.04133061 -0.00765871 -0.00683665]]\n"
          ]
        }
      ]
    },
    {
      "cell_type": "code",
      "source": [
        "### Assignment\n",
        "\n",
        "sent=[\"The world is a better place\",\n",
        "      \"Marvel series is my favourite movie\",\n",
        "      \"I like DC movies\",\n",
        "      \"the cat is eating the food\",\n",
        "      \"Tom and Jerry is my favourite movie\",\n",
        "      \"Python is my favourite programming language\"\n",
        "      ]\n",
        "# https://www.kaggle.com/datasets/lakshmi25npathi/imdb-dataset-of-50k-movie-reviews"
      ],
      "metadata": {
        "id": "NNWDgvOoSwTH"
      },
      "execution_count": null,
      "outputs": []
    }
  ]
}