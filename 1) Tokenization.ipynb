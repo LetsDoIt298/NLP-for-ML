{
 "cells": [
  {
   "cell_type": "code",
   "execution_count": 1,
   "id": "c9e5f6c4",
   "metadata": {},
   "outputs": [
    {
     "name": "stdout",
     "output_type": "stream",
     "text": [
      "Requirement already satisfied: nltk in c:\\users\\alankar sharma\\anaconda3\\lib\\site-packages (3.8.1)\n",
      "Requirement already satisfied: click in c:\\users\\alankar sharma\\anaconda3\\lib\\site-packages (from nltk) (8.1.7)\n",
      "Requirement already satisfied: joblib in c:\\users\\alankar sharma\\anaconda3\\lib\\site-packages (from nltk) (1.4.2)\n",
      "Requirement already satisfied: regex>=2021.8.3 in c:\\users\\alankar sharma\\anaconda3\\lib\\site-packages (from nltk) (2023.10.3)\n",
      "Requirement already satisfied: tqdm in c:\\users\\alankar sharma\\anaconda3\\lib\\site-packages (from nltk) (4.66.4)\n",
      "Requirement already satisfied: colorama in c:\\users\\alankar sharma\\anaconda3\\lib\\site-packages (from click->nltk) (0.4.6)\n"
     ]
    }
   ],
   "source": [
    "!pip install nltk"
   ]
  },
  {
   "cell_type": "code",
   "execution_count": 26,
   "id": "54974b7a",
   "metadata": {},
   "outputs": [],
   "source": [
    "#Corpus/Paragraph\n",
    "\n",
    "Corpus='''Hello welcome, to the world.\n",
    "Please watch! the complete video's data. '''"
   ]
  },
  {
   "cell_type": "markdown",
   "id": "71c7d989",
   "metadata": {},
   "source": [
    "### Converting sentence to Paragraph"
   ]
  },
  {
   "cell_type": "code",
   "execution_count": 27,
   "id": "ba77ea95",
   "metadata": {
    "scrolled": true
   },
   "outputs": [
    {
     "name": "stderr",
     "output_type": "stream",
     "text": [
      "[nltk_data] Downloading package punkt to C:\\Users\\ALANKAR\n",
      "[nltk_data]     SHARMA\\AppData\\Roaming\\nltk_data...\n",
      "[nltk_data]   Package punkt is already up-to-date!\n"
     ]
    },
    {
     "data": {
      "text/plain": [
       "True"
      ]
     },
     "execution_count": 27,
     "metadata": {},
     "output_type": "execute_result"
    }
   ],
   "source": [
    "# Converting sentence to Paragraph\n",
    "\n",
    "from nltk.tokenize import sent_tokenize\n",
    "#Downloading all the packages of sent_tokenize\n",
    "import nltk\n",
    "nltk.download('punkt')"
   ]
  },
  {
   "cell_type": "code",
   "execution_count": 28,
   "id": "acf38b60",
   "metadata": {},
   "outputs": [
    {
     "data": {
      "text/plain": [
       "['Hello welcome, to the world.', 'Please watch!', \"the complete video's data.\"]"
      ]
     },
     "execution_count": 28,
     "metadata": {},
     "output_type": "execute_result"
    }
   ],
   "source": [
    "sent_tokenize(Corpus)"
   ]
  },
  {
   "cell_type": "code",
   "execution_count": 29,
   "id": "daf48399",
   "metadata": {},
   "outputs": [
    {
     "data": {
      "text/plain": [
       "list"
      ]
     },
     "execution_count": 29,
     "metadata": {},
     "output_type": "execute_result"
    }
   ],
   "source": [
    "# Sentence/Documents\n",
    "\n",
    "Documents = sent_tokenize(Corpus)\n",
    "type(Documents)"
   ]
  },
  {
   "cell_type": "code",
   "execution_count": null,
   "id": "91a52284",
   "metadata": {},
   "outputs": [],
   "source": []
  },
  {
   "cell_type": "markdown",
   "id": "6a3728d2",
   "metadata": {},
   "source": [
    "### Converting Paragraph in to Words\n",
    "### Converting Sentence in to Words"
   ]
  },
  {
   "cell_type": "code",
   "execution_count": 30,
   "id": "fbe14d52",
   "metadata": {},
   "outputs": [],
   "source": [
    "from nltk.tokenize import word_tokenize"
   ]
  },
  {
   "cell_type": "code",
   "execution_count": 31,
   "id": "5802eb34",
   "metadata": {},
   "outputs": [
    {
     "data": {
      "text/plain": [
       "['Hello',\n",
       " 'welcome',\n",
       " ',',\n",
       " 'to',\n",
       " 'the',\n",
       " 'world',\n",
       " '.',\n",
       " 'Please',\n",
       " 'watch',\n",
       " '!',\n",
       " 'the',\n",
       " 'complete',\n",
       " 'video',\n",
       " \"'s\",\n",
       " 'data',\n",
       " '.']"
      ]
     },
     "execution_count": 31,
     "metadata": {},
     "output_type": "execute_result"
    }
   ],
   "source": [
    "word_tokenize(Corpus)"
   ]
  },
  {
   "cell_type": "code",
   "execution_count": 32,
   "id": "170a253f",
   "metadata": {},
   "outputs": [
    {
     "name": "stdout",
     "output_type": "stream",
     "text": [
      "['Hello', 'welcome', ',', 'to', 'the', 'world', '.']\n",
      "['Please', 'watch', '!']\n",
      "['the', 'complete', 'video', \"'s\", 'data', '.']\n"
     ]
    }
   ],
   "source": [
    "# Printing words of each sentence separately\n",
    "for sentence in Documents:\n",
    "    print(word_tokenize(sentence))"
   ]
  },
  {
   "cell_type": "code",
   "execution_count": null,
   "id": "c2af4b59",
   "metadata": {},
   "outputs": [],
   "source": []
  },
  {
   "cell_type": "code",
   "execution_count": 33,
   "id": "7a509ac9",
   "metadata": {},
   "outputs": [],
   "source": [
    "from nltk.tokenize import wordpunct_tokenize"
   ]
  },
  {
   "cell_type": "code",
   "execution_count": 34,
   "id": "08099bf1",
   "metadata": {},
   "outputs": [
    {
     "data": {
      "text/plain": [
       "['Hello',\n",
       " 'welcome',\n",
       " ',',\n",
       " 'to',\n",
       " 'the',\n",
       " 'world',\n",
       " '.',\n",
       " 'Please',\n",
       " 'watch',\n",
       " '!',\n",
       " 'the',\n",
       " 'complete',\n",
       " 'video',\n",
       " \"'\",\n",
       " 's',\n",
       " 'data',\n",
       " '.']"
      ]
     },
     "execution_count": 34,
     "metadata": {},
     "output_type": "execute_result"
    }
   ],
   "source": [
    "wordpunct_tokenize(Corpus) #This spits \"'s\" too"
   ]
  },
  {
   "cell_type": "code",
   "execution_count": null,
   "id": "391ac572",
   "metadata": {},
   "outputs": [],
   "source": []
  },
  {
   "cell_type": "code",
   "execution_count": 35,
   "id": "b5b293e9",
   "metadata": {},
   "outputs": [],
   "source": [
    "from nltk.tokenize import TreebankWordDetokenizer"
   ]
  },
  {
   "cell_type": "code",
   "execution_count": 36,
   "id": "08d8bb05",
   "metadata": {},
   "outputs": [
    {
     "data": {
      "text/plain": [
       "\"H e l l o   w e l c o m e,   t o   t h e   w o r l d . \\n P l e a s e   w a t c h!   t h e   c o m p l e t e   v i d e o' s   d a t a.\""
      ]
     },
     "execution_count": 36,
     "metadata": {},
     "output_type": "execute_result"
    }
   ],
   "source": [
    "tokenizer = TreebankWordDetokenizer()\n",
    "tokenizer.tokenize(Corpus)"
   ]
  },
  {
   "cell_type": "code",
   "execution_count": null,
   "id": "5b12b9be",
   "metadata": {},
   "outputs": [],
   "source": []
  }
 ],
 "metadata": {
  "kernelspec": {
   "display_name": "Python 3 (ipykernel)",
   "language": "python",
   "name": "python3"
  },
  "language_info": {
   "codemirror_mode": {
    "name": "ipython",
    "version": 3
   },
   "file_extension": ".py",
   "mimetype": "text/x-python",
   "name": "python",
   "nbconvert_exporter": "python",
   "pygments_lexer": "ipython3",
   "version": "3.12.3"
  }
 },
 "nbformat": 4,
 "nbformat_minor": 5
}
